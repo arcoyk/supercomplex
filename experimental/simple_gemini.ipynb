{
 "cells": [
  {
   "cell_type": "code",
   "execution_count": 15,
   "id": "f006fbab-1309-437a-a93a-5b670cb6b9bf",
   "metadata": {},
   "outputs": [],
   "source": [
    "import google.generativeai as genai\n",
    "from IPython.display import Image\n",
    "import os\n",
    "import glob\n",
    "\n",
    "def gemini(prompt):\n",
    "    genai.configure(api_key=os.environ[\"GEMINI_API\"])\n",
    "    model = genai.GenerativeModel(model_name=\"models/gemini-1.5-flash\")\n",
    "    response = model.generate_content(prompt)\n",
    "    return response.text"
   ]
  },
  {
   "cell_type": "code",
   "execution_count": 16,
   "id": "bda34766-8303-4177-a12c-7d07aece6d1d",
   "metadata": {},
   "outputs": [
    {
     "data": {
      "text/plain": [
       "'Hi! How can I help you today? \\n'"
      ]
     },
     "execution_count": 16,
     "metadata": {},
     "output_type": "execute_result"
    }
   ],
   "source": [
    "gemini(\"hi\")"
   ]
  },
  {
   "cell_type": "code",
   "execution_count": null,
   "id": "b2c2b647-42e9-4380-8af0-01406f63f214",
   "metadata": {},
   "outputs": [],
   "source": []
  }
 ],
 "metadata": {
  "kernelspec": {
   "display_name": "Python 3 (ipykernel)",
   "language": "python",
   "name": "python3"
  },
  "language_info": {
   "codemirror_mode": {
    "name": "ipython",
    "version": 3
   },
   "file_extension": ".py",
   "mimetype": "text/x-python",
   "name": "python",
   "nbconvert_exporter": "python",
   "pygments_lexer": "ipython3",
   "version": "3.11.3"
  }
 },
 "nbformat": 4,
 "nbformat_minor": 5
}
